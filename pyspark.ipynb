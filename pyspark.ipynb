{
 "cells": [
  {
   "cell_type": "code",
   "execution_count": 1,
   "id": "7c0c49dc-c898-447a-a463-5211d789c721",
   "metadata": {},
   "outputs": [],
   "source": [
    "from pyspark.sql import SparkSession\n",
    "from pyspark.sql.functions import regexp_replace\n",
    "from pyspark.sql.functions import col\n",
    "from pyspark.sql.types import IntegerType"
   ]
  },
  {
   "cell_type": "code",
   "execution_count": 2,
   "id": "56dad554-ccff-4213-8abd-529be6c9f3cf",
   "metadata": {},
   "outputs": [],
   "source": [
    "# Create a Spark session\n",
    "spark = SparkSession.builder.appName('Seattle').getOrCreate()"
   ]
  },
  {
   "cell_type": "code",
   "execution_count": 3,
   "id": "bc4e11a2-2881-4ce2-9430-0afd7295c1db",
   "metadata": {},
   "outputs": [],
   "source": [
    "# Load file from GitHub\n",
    "from pyspark import SparkFiles\n",
    "url = 'https://raw.githubusercontent.com/ZacksAmber/Kaggle-Seattle-Airbnb/main/data/201601/listings.csv'\n",
    "spark.sparkContext.addFile(url)\n",
    "\n",
    "# Load dataset as Spark dataframe\n",
    "spark_df = spark.read.options(inferSchema=True, header=True, sep=',', quote=\"\\\"\", escape=\"\\\"\", multiLine=True).csv(SparkFiles.get('listings.csv'))"
   ]
  },
  {
   "cell_type": "code",
   "execution_count": 4,
   "id": "e3238084-6028-453e-8c87-b61555867408",
   "metadata": {},
   "outputs": [],
   "source": [
    "# Remove '$' in the following columns, then format the column from string to int\n",
    "dollar_cols = ['price', 'weekly_price', 'monthly_price', 'extra_people', 'security_deposit', 'cleaning_fee']\n",
    "for dollar_col in dollar_cols:\n",
    "    spark_df = spark_df.withColumn(dollar_col, regexp_replace(dollar_col, '\\$', ''))\n",
    "    spark_df = spark_df.withColumn(dollar_col, col(dollar_col).cast(\"Integer\"))"
   ]
  },
  {
   "cell_type": "code",
   "execution_count": 5,
   "id": "5dad96ce-956e-41f7-8ec2-4140791a7931",
   "metadata": {},
   "outputs": [],
   "source": [
    "# Create a SQL view for Spark SQL query\n",
    "spark_df.createOrReplaceTempView('spark_view')\n",
    "# Export spark dataframe to pandas dataframe\n",
    "pandas_df = spark_df.toPandas()\n",
    "\n",
    "# Now we have 1 Spark dataframe, 1 Spark view, 1 Pandas dataframe\n",
    "# We can query data from all of the three data source"
   ]
  },
  {
   "cell_type": "code",
   "execution_count": 6,
   "id": "5aca1936-2f56-493d-9ab0-7513d5e97361",
   "metadata": {},
   "outputs": [
    {
     "name": "stdout",
     "output_type": "stream",
     "text": [
      "+---------------+------------------+\n",
      "|  property_type|         avg_price|\n",
      "+---------------+------------------+\n",
      "|      Apartment|122.93266978922716|\n",
      "|      Townhouse|129.45762711864407|\n",
      "|Bed & Breakfast|112.05405405405405|\n",
      "|           null|             120.0|\n",
      "|      Camper/RV|120.46153846153847|\n",
      "+---------------+------------------+\n",
      "only showing top 5 rows\n",
      "\n"
     ]
    }
   ],
   "source": [
    "# Query data from Spark view\n",
    "sql = \"\"\"\n",
    "SELECT property_type, AVG(price) AS avg_price\n",
    "FROM spark_view\n",
    "GROUP BY property_type\n",
    "\"\"\"\n",
    "\n",
    "spark.sql(sql).show(5)"
   ]
  },
  {
   "cell_type": "code",
   "execution_count": 7,
   "id": "28bdb54f-7714-4d72-80ea-dc764a1917ac",
   "metadata": {},
   "outputs": [
    {
     "data": {
      "text/plain": [
       "property_type\n",
       "Apartment          122.932670\n",
       "Bed & Breakfast    112.054054\n",
       "Boat               282.375000\n",
       "Bungalow           115.615385\n",
       "Cabin              104.666667\n",
       "Name: price, dtype: float64"
      ]
     },
     "execution_count": 7,
     "metadata": {},
     "output_type": "execute_result"
    }
   ],
   "source": [
    "# Query data from Pandas dataframe\n",
    "pandas_df.groupby('property_type')['price'].mean().head()"
   ]
  },
  {
   "cell_type": "code",
   "execution_count": 8,
   "id": "860d148a-25e7-4048-8778-b1ed2651fa84",
   "metadata": {},
   "outputs": [
    {
     "data": {
      "text/html": [
       "<div>\n",
       "<style scoped>\n",
       "    .dataframe tbody tr th:only-of-type {\n",
       "        vertical-align: middle;\n",
       "    }\n",
       "\n",
       "    .dataframe tbody tr th {\n",
       "        vertical-align: top;\n",
       "    }\n",
       "\n",
       "    .dataframe thead th {\n",
       "        text-align: right;\n",
       "    }\n",
       "</style>\n",
       "<table border=\"1\" class=\"dataframe\">\n",
       "  <thead>\n",
       "    <tr style=\"text-align: right;\">\n",
       "      <th></th>\n",
       "      <th>property_type</th>\n",
       "      <th>avg(price)</th>\n",
       "    </tr>\n",
       "  </thead>\n",
       "  <tbody>\n",
       "    <tr>\n",
       "      <th>0</th>\n",
       "      <td>Apartment</td>\n",
       "      <td>122.932670</td>\n",
       "    </tr>\n",
       "    <tr>\n",
       "      <th>1</th>\n",
       "      <td>Townhouse</td>\n",
       "      <td>129.457627</td>\n",
       "    </tr>\n",
       "    <tr>\n",
       "      <th>2</th>\n",
       "      <td>Bed &amp; Breakfast</td>\n",
       "      <td>112.054054</td>\n",
       "    </tr>\n",
       "    <tr>\n",
       "      <th>3</th>\n",
       "      <td>None</td>\n",
       "      <td>120.000000</td>\n",
       "    </tr>\n",
       "    <tr>\n",
       "      <th>4</th>\n",
       "      <td>Camper/RV</td>\n",
       "      <td>120.461538</td>\n",
       "    </tr>\n",
       "  </tbody>\n",
       "</table>\n",
       "</div>"
      ],
      "text/plain": [
       "     property_type  avg(price)\n",
       "0        Apartment  122.932670\n",
       "1        Townhouse  129.457627\n",
       "2  Bed & Breakfast  112.054054\n",
       "3             None  120.000000\n",
       "4        Camper/RV  120.461538"
      ]
     },
     "execution_count": 8,
     "metadata": {},
     "output_type": "execute_result"
    }
   ],
   "source": [
    "# Query data from Spark dataframe\n",
    "spark_df.groupby('property_type').mean('price').toPandas().head()"
   ]
  },
  {
   "cell_type": "code",
   "execution_count": 9,
   "id": "41e97d8a-aadf-4d82-9a74-172f0b6857bf",
   "metadata": {},
   "outputs": [
    {
     "name": "stdout",
     "output_type": "stream",
     "text": [
      "+-------------+---------+---------+------------------+---------+\n",
      "|property_type|sum_price|min_price|         avg_price|max_price|\n",
      "+-------------+---------+---------+------------------+---------+\n",
      "|         Boat|     2259|       75|           282.375|      775|\n",
      "|  Condominium|    13751|       50| 151.1098901098901|      700|\n",
      "|         Loft|     5428|       25|             135.7|      425|\n",
      "|        House|   228365|       25|131.85046189376445|      975|\n",
      "|    Townhouse|    15276|       28|129.45762711864407|      498|\n",
      "+-------------+---------+---------+------------------+---------+\n",
      "only showing top 5 rows\n",
      "\n"
     ]
    }
   ],
   "source": [
    "# Query data from Spark view\n",
    "sql = \"\"\"\n",
    "SELECT \n",
    "    property_type, \n",
    "    SUM(price) AS sum_price,\n",
    "    MIN(price) AS min_price,\n",
    "    AVG(price) AS avg_price,\n",
    "    MAX(price) AS max_price\n",
    "FROM spark_view\n",
    "GROUP BY property_type\n",
    "ORDER BY 4 DESC\n",
    "\"\"\"\n",
    "\n",
    "spark.sql(sql).show(5)"
   ]
  },
  {
   "cell_type": "code",
   "execution_count": 10,
   "id": "7b21aec4-b948-4be4-8233-5f47b4965473",
   "metadata": {},
   "outputs": [
    {
     "data": {
      "text/html": [
       "<div>\n",
       "<style scoped>\n",
       "    .dataframe tbody tr th:only-of-type {\n",
       "        vertical-align: middle;\n",
       "    }\n",
       "\n",
       "    .dataframe tbody tr th {\n",
       "        vertical-align: top;\n",
       "    }\n",
       "\n",
       "    .dataframe thead th {\n",
       "        text-align: right;\n",
       "    }\n",
       "</style>\n",
       "<table border=\"1\" class=\"dataframe\">\n",
       "  <thead>\n",
       "    <tr style=\"text-align: right;\">\n",
       "      <th></th>\n",
       "      <th>sum</th>\n",
       "      <th>min</th>\n",
       "      <th>mean</th>\n",
       "      <th>max</th>\n",
       "    </tr>\n",
       "    <tr>\n",
       "      <th>property_type</th>\n",
       "      <th></th>\n",
       "      <th></th>\n",
       "      <th></th>\n",
       "      <th></th>\n",
       "    </tr>\n",
       "  </thead>\n",
       "  <tbody>\n",
       "    <tr>\n",
       "      <th>Boat</th>\n",
       "      <td>2259.0</td>\n",
       "      <td>75.0</td>\n",
       "      <td>282.375000</td>\n",
       "      <td>775.0</td>\n",
       "    </tr>\n",
       "    <tr>\n",
       "      <th>Condominium</th>\n",
       "      <td>13751.0</td>\n",
       "      <td>50.0</td>\n",
       "      <td>151.109890</td>\n",
       "      <td>700.0</td>\n",
       "    </tr>\n",
       "    <tr>\n",
       "      <th>Loft</th>\n",
       "      <td>5428.0</td>\n",
       "      <td>25.0</td>\n",
       "      <td>135.700000</td>\n",
       "      <td>425.0</td>\n",
       "    </tr>\n",
       "    <tr>\n",
       "      <th>House</th>\n",
       "      <td>228365.0</td>\n",
       "      <td>25.0</td>\n",
       "      <td>131.850462</td>\n",
       "      <td>975.0</td>\n",
       "    </tr>\n",
       "    <tr>\n",
       "      <th>Townhouse</th>\n",
       "      <td>15276.0</td>\n",
       "      <td>28.0</td>\n",
       "      <td>129.457627</td>\n",
       "      <td>498.0</td>\n",
       "    </tr>\n",
       "  </tbody>\n",
       "</table>\n",
       "</div>"
      ],
      "text/plain": [
       "                    sum   min        mean    max\n",
       "property_type                                   \n",
       "Boat             2259.0  75.0  282.375000  775.0\n",
       "Condominium     13751.0  50.0  151.109890  700.0\n",
       "Loft             5428.0  25.0  135.700000  425.0\n",
       "House          228365.0  25.0  131.850462  975.0\n",
       "Townhouse       15276.0  28.0  129.457627  498.0"
      ]
     },
     "execution_count": 10,
     "metadata": {},
     "output_type": "execute_result"
    }
   ],
   "source": [
    "# Query data from Pandas dataframe\n",
    "pandas_df.groupby('property_type')['price'].agg(['sum', 'min', 'mean', 'max']).sort_values(by='mean', ascending=False).head()"
   ]
  },
  {
   "cell_type": "code",
   "execution_count": 11,
   "id": "fb8b52e1-59d5-4d35-989d-92e0cef5b80b",
   "metadata": {},
   "outputs": [
    {
     "name": "stdout",
     "output_type": "stream",
     "text": [
      "+-------------+---------+---------+------------------+---------+\n",
      "|property_type|sum_price|min_price|         avg_price|max_price|\n",
      "+-------------+---------+---------+------------------+---------+\n",
      "|         Boat|     2259|       75|           282.375|      775|\n",
      "|  Condominium|    13751|       50| 151.1098901098901|      700|\n",
      "|         Loft|     5428|       25|             135.7|      425|\n",
      "|        House|   228365|       25|131.85046189376445|      975|\n",
      "|    Townhouse|    15276|       28|129.45762711864407|      498|\n",
      "+-------------+---------+---------+------------------+---------+\n",
      "only showing top 5 rows\n",
      "\n"
     ]
    }
   ],
   "source": [
    "# Query data from Spark dataframe\n",
    "import pyspark.sql.functions as F\n",
    "\n",
    "spark_df.groupby('property_type') \\\n",
    "    .agg(F.sum('price').alias('sum_price'), \\\n",
    "         F.min('price').alias('min_price'), \\\n",
    "         F.mean('price').alias('avg_price'), \\\n",
    "         F.max('price').alias('max_price') \\\n",
    "    ).sort('avg_price', ascending=False).show(5)"
   ]
  },
  {
   "cell_type": "code",
   "execution_count": null,
   "id": "ae1a396b-d50d-48ad-9886-062aec92a398",
   "metadata": {},
   "outputs": [],
   "source": []
  },
  {
   "cell_type": "code",
   "execution_count": null,
   "id": "c6d3374d-be35-4020-a123-746cecacd47c",
   "metadata": {},
   "outputs": [],
   "source": []
  }
 ],
 "metadata": {
  "kernelspec": {
   "display_name": "Python 3",
   "language": "python",
   "name": "python3"
  },
  "language_info": {
   "codemirror_mode": {
    "name": "ipython",
    "version": 3
   },
   "file_extension": ".py",
   "mimetype": "text/x-python",
   "name": "python",
   "nbconvert_exporter": "python",
   "pygments_lexer": "ipython3",
   "version": "3.9.7"
  }
 },
 "nbformat": 4,
 "nbformat_minor": 5
}
